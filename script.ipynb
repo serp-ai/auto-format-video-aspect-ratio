{
 "cells": [
  {
   "cell_type": "code",
   "execution_count": null,
   "metadata": {},
   "outputs": [],
   "source": [
    "# !pip install moviepy"
   ]
  },
  {
   "cell_type": "code",
   "execution_count": null,
   "metadata": {},
   "outputs": [],
   "source": [
    "import os\n",
    "from moviepy.editor import VideoFileClip, CompositeVideoClip, ColorClip\n",
    "\n",
    "def resize_video(video_path, output_path, size=(1920, 1080)):\n",
    "    clip = VideoFileClip(video_path)\n",
    "    clip_resized = clip.resize(height=size[1])  # resize keeping aspect ratio\n",
    "    if clip.fps is not None:\n",
    "        fps = clip.fps\n",
    "    else:\n",
    "        fps = 30  # or any other default fps you want to use\n",
    "\n",
    "    # Create a black background clip\n",
    "    background = ColorClip(size, col=[0,0,0]).set_duration(clip.duration)\n",
    "\n",
    "    # Center the video clip on the background clip\n",
    "    final_clip = CompositeVideoClip([background, clip_resized.set_position('center')])\n",
    "\n",
    "    final_clip.write_videofile(output_path, codec='libx264', fps=fps)\n",
    "\n",
    "folder_path = input(\"Enter the path to your input folder: \")\n",
    "output_folder = input(\"Enter the path to your output folder: \")\n",
    "\n",
    "for filename in os.listdir(folder_path):\n",
    "    if filename.endswith(\".mp4\"): \n",
    "        video_path = os.path.join(folder_path, filename)\n",
    "        output_path = os.path.join(output_folder, 'resized_' + filename)\n",
    "        resize_video(video_path, output_path)"
   ]
  }
 ],
 "metadata": {
  "kernelspec": {
   "display_name": ".venv",
   "language": "python",
   "name": "python3"
  },
  "language_info": {
   "codemirror_mode": {
    "name": "ipython",
    "version": 3
   },
   "file_extension": ".py",
   "mimetype": "text/x-python",
   "name": "python",
   "nbconvert_exporter": "python",
   "pygments_lexer": "ipython3",
   "version": "3.11.6"
  }
 },
 "nbformat": 4,
 "nbformat_minor": 2
}
